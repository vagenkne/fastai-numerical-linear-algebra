{
 "cells": [
  {
   "cell_type": "markdown",
   "metadata": {},
   "source": [
    "First week"
   ]
  },
  {
   "cell_type": "markdown",
   "metadata": {},
   "source": [
    "## Matrix Computations"
   ]
  },
  {
   "cell_type": "markdown",
   "metadata": {},
   "source": [
    "- Matrix and tensor products\n",
    "- Matrics decomposition"
   ]
  },
  {
   "cell_type": "code",
   "execution_count": 2,
   "metadata": {},
   "outputs": [],
   "source": [
    "import numpy as np"
   ]
  },
  {
   "cell_type": "markdown",
   "metadata": {},
   "source": [
    "markov chains"
   ]
  },
  {
   "cell_type": "code",
   "execution_count": 8,
   "metadata": {},
   "outputs": [
    {
     "name": "stdout",
     "output_type": "stream",
     "text": [
      "[[0.9  0.07 0.02 0.01]\n",
      " [0.   0.93 0.05 0.02]\n",
      " [0.   0.   0.85 0.15]\n",
      " [0.   0.   0.   1.  ]]\n"
     ]
    }
   ],
   "source": [
    "A = np.matrix([[0.9,0.07,.02,.01],[0,.93,.05,0.02],\n",
    "               [0,0,.85,.15],[0,0,0,1]])\n",
    "print(A)"
   ]
  },
  {
   "cell_type": "code",
   "execution_count": 9,
   "metadata": {},
   "outputs": [
    {
     "data": {
      "text/plain": [
       "numpy.matrixlib.defmatrix.matrix"
      ]
     },
     "execution_count": 9,
     "metadata": {},
     "output_type": "execute_result"
    }
   ],
   "source": [
    "type(A)"
   ]
  },
  {
   "cell_type": "code",
   "execution_count": 24,
   "metadata": {},
   "outputs": [],
   "source": [
    "currentState = np.matrix([[.85, .1,.05,0]])"
   ]
  },
  {
   "cell_type": "code",
   "execution_count": 18,
   "metadata": {},
   "outputs": [
    {
     "name": "stdout",
     "output_type": "stream",
     "text": [
      "[[0.85 0.1  0.05 0.  ]]\n"
     ]
    }
   ],
   "source": [
    "print(currentState)"
   ]
  },
  {
   "cell_type": "code",
   "execution_count": 19,
   "metadata": {},
   "outputs": [
    {
     "name": "stdout",
     "output_type": "stream",
     "text": [
      "[[0.765  0.1525 0.0645 0.018 ]]\n"
     ]
    }
   ],
   "source": [
    "afterOneYear = currentState @ A\n",
    "print(afterOneYear)"
   ]
  },
  {
   "cell_type": "code",
   "execution_count": 22,
   "metadata": {},
   "outputs": [
    {
     "name": "stdout",
     "output_type": "stream",
     "text": [
      "[[0.765 ]\n",
      " [0.1525]\n",
      " [0.0645]\n",
      " [0.018 ]]\n"
     ]
    }
   ],
   "source": [
    "#equivalent to\n",
    "#first element in the output vector is a linear combination of states where we are \n",
    "#and vector of how to get into state 1 from different states\n",
    "afterOneYear = A.T @ currentState.T\n",
    "print(afterOneYear)"
   ]
  },
  {
   "cell_type": "markdown",
   "metadata": {},
   "source": [
    "matrix matrix product"
   ]
  },
  {
   "cell_type": "code",
   "execution_count": 26,
   "metadata": {},
   "outputs": [],
   "source": [
    "Demand = np.array([[6,5,3,1],[3,6,2,2],[3,4,3,1]])\n",
    "Prices = np.array([[1.5,1],[2,2.5],[5,4.5],[16,17]])"
   ]
  },
  {
   "cell_type": "code",
   "execution_count": 27,
   "metadata": {},
   "outputs": [
    {
     "name": "stdout",
     "output_type": "stream",
     "text": [
      "[[50.  49. ]\n",
      " [58.5 61. ]\n",
      " [43.5 43.5]]\n"
     ]
    }
   ],
   "source": [
    "Pay = Demand @ Prices\n",
    "print(Pay)"
   ]
  },
  {
   "cell_type": "code",
   "execution_count": null,
   "metadata": {},
   "outputs": [],
   "source": []
  }
 ],
 "metadata": {
  "kernelspec": {
   "display_name": "Python 3",
   "language": "python",
   "name": "python3"
  },
  "language_info": {
   "codemirror_mode": {
    "name": "ipython",
    "version": 3
   },
   "file_extension": ".py",
   "mimetype": "text/x-python",
   "name": "python",
   "nbconvert_exporter": "python",
   "pygments_lexer": "ipython3",
   "version": "3.6.4"
  }
 },
 "nbformat": 4,
 "nbformat_minor": 2
}
